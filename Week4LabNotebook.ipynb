{
  "metadata": {
    "kernelspec": {
      "name": "python",
      "display_name": "Pyolite",
      "language": "python"
    },
    "language_info": {
      "codemirror_mode": {
        "name": "python",
        "version": 3
      },
      "file_extension": ".py",
      "mimetype": "text/x-python",
      "name": "python",
      "nbconvert_exporter": "python",
      "pygments_lexer": "ipython3",
      "version": "3.8"
    }
  },
  "nbformat_minor": 4,
  "nbformat": 4,
  "cells": [
    {
      "cell_type": "markdown",
      "source": "<center>\n    <img src=\"https://cf-courses-data.s3.us.cloud-object-storage.appdomain.cloud/IBMDeveloperSkillsNetwork-DS0105EN-SkillsNetwork/labs/Module2/images/SN_web_lightmode.png\" width=\"300\" alt=\"cognitiveclass.ai logo\">\n</center>\n",
      "metadata": {}
    },
    {
      "cell_type": "markdown",
      "source": "#### Add your code below following the instructions given in the course\n",
      "metadata": {}
    },
    {
      "cell_type": "markdown",
      "source": "# My Jupyter Notebook on Skills Network Labs",
      "metadata": {}
    },
    {
      "cell_type": "markdown",
      "source": "**Chris Gregory**\n\nSystems Engineering and Operations ",
      "metadata": {}
    },
    {
      "cell_type": "markdown",
      "source": "*I am interested in data science because I see so many ways it can be applied to enhance the quality of the type of work I've done in my career.  I focused on Digital Signal Processing in FPGAs to implement satellite modems used for internet access.  In my current company we produce data products using Low Earth Orbit satellites and various signal processing techniques.  Since the data is the product we sell, and that data consists of Radio Frequency signals observed from space (random inputs), it makes sense that data science techniques can be applied to classify and quality check the data to find anomalies and trends.  And machine learning is being used more and more in signal processing to perform signal detection and classification. So I am excited to know more about the data science tools and techniques.* ",
      "metadata": {}
    },
    {
      "cell_type": "markdown",
      "source": "### Calculate the wavelength of a 10Mhz RF tone",
      "metadata": {}
    },
    {
      "cell_type": "code",
      "source": "SpeedOfLight = 3e8 \nFrequencyOfTone = 10e9\nWavelength = SpeedOfLight / FrequencyOfTone\nprint('The Wavelength of a ', FrequencyOfTone,'Hz tone is ', Wavelength,'meters')\n\n",
      "metadata": {
        "trusted": true
      },
      "execution_count": 11,
      "outputs": [
        {
          "name": "stdout",
          "text": "The Wavelength of a  10000000000.0 Hz tone is  0.03 meters\n",
          "output_type": "stream"
        }
      ]
    },
    {
      "cell_type": "markdown",
      "source": "## This is a horizontal rule\n\n---\n\nI enjoy fishing for:\n\n- Rockfish (striped bass)\n- Largemouth Bass\n- Crappie\n- Catfish\n- Perch\n\nHere is a table of cities and counties in Virginia\n\n| City | County |\n| ----------- | ----------- |\n| Herndon | Fairfax |\n| Leesburg | Loundon |\n| Franklin | Southampton |",
      "metadata": {}
    },
    {
      "cell_type": "code",
      "source": "",
      "metadata": {},
      "execution_count": null,
      "outputs": []
    }
  ]
}